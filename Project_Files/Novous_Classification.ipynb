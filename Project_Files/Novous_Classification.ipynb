{
  "nbformat": 4,
  "nbformat_minor": 0,
  "metadata": {
    "colab": {
      "name": "Novous_Classification.ipynb",
      "provenance": [],
      "collapsed_sections": [],
      "toc_visible": true,
      "machine_shape": "hm"
    },
    "kernelspec": {
      "name": "python3",
      "display_name": "Python 3"
    },
    "language_info": {
      "name": "python"
    }
  },
  "cells": [
    {
      "cell_type": "markdown",
      "metadata": {
        "id": "Qx0wFG5zFX5i"
      },
      "source": [
        "# **OpenFoodFact**"
      ]
    },
    {
      "cell_type": "markdown",
      "metadata": {
        "id": "4ytJatQ-FbJ_"
      },
      "source": [
        "# A. IMPORT\n"
      ]
    },
    {
      "cell_type": "code",
      "metadata": {
        "id": "YC0BPsfhFcNz"
      },
      "source": [
        "import pandas as pd, seaborn as sns\n",
        "import numpy as np\n",
        "import matplotlib.pyplot as plt\n",
        "%matplotlib inline\n",
        "import random\n",
        "import joblib\n",
        "import warnings\n",
        "warnings.filterwarnings('ignore')\n",
        "from pandas.plotting import scatter_matrix\n",
        "pd.set_option('max_colwidth', 20000)\n",
        "import re\n",
        "from sklearn import preprocessing, neighbors\n",
        "from sklearn.model_selection import train_test_split\n",
        "from sklearn.preprocessing import MinMaxScaler, StandardScaler\n",
        "from imblearn.combine import SMOTEENN\n",
        "from imblearn.over_sampling import SMOTE\n",
        "from sklearn.model_selection import GridSearchCV, RandomizedSearchCV\n",
        "\n",
        "from sklearn.dummy import DummyClassifier, DummyRegressor\n",
        "from sklearn.linear_model import LinearRegression, LogisticRegression\n",
        "from sklearn.neighbors import KNeighborsClassifier\n",
        "from sklearn.tree import DecisionTreeClassifier\n",
        "from sklearn.ensemble import RandomForestClassifier, RandomForestRegressor\n",
        "from sklearn.svm import SVC, SVR\n",
        "from lightgbm import LGBMClassifier, LGBMRegressor\n",
        "\n",
        "from sklearn.model_selection import cross_val_score, KFold, RepeatedStratifiedKFold, StratifiedKFold\n",
        "# from sklearn.pipeline import Pipeline\n",
        "from imblearn.pipeline import Pipeline\n",
        "from sklearn.metrics import confusion_matrix, plot_confusion_matrix, classification_report\n",
        "from sklearn.metrics import accuracy_score, f1_score, fbeta_score, roc_auc_score, make_scorer\n",
        "\n",
        "import tensorflow as tf\n",
        "from tensorflow import keras\n",
        "from tensorflow.keras import layers, regularizers, optimizers\n"
      ],
      "execution_count": null,
      "outputs": []
    },
    {
      "cell_type": "code",
      "metadata": {
        "id": "yLaf_KDu0c5L",
        "colab": {
          "base_uri": "https://localhost:8080/"
        },
        "outputId": "d5f2d027-ec47-4872-c814-ad89e37da40b"
      },
      "source": [
        "from google.colab import drive\n",
        "drive.mount('/content/gdrive')"
      ],
      "execution_count": null,
      "outputs": [
        {
          "output_type": "stream",
          "name": "stdout",
          "text": [
            "Mounted at /content/gdrive\n"
          ]
        }
      ]
    },
    {
      "cell_type": "code",
      "metadata": {
        "id": "a_JmnniV7LZg"
      },
      "source": [
        "df_nova = pd.read_csv(\"/content/gdrive/MyDrive/Colab Notebooks/FINAL PROJECT/Saved_files/Saved_dataset/df_nova.csv\") "
      ],
      "execution_count": null,
      "outputs": []
    },
    {
      "cell_type": "markdown",
      "metadata": {
        "id": "2dMbQW3gjr31"
      },
      "source": [
        "#**B. Classification**"
      ]
    },
    {
      "cell_type": "markdown",
      "metadata": {
        "id": "0QOAkEoTItcf"
      },
      "source": [
        "##1. Visualize the distribution of the label"
      ]
    },
    {
      "cell_type": "code",
      "metadata": {
        "colab": {
          "base_uri": "https://localhost:8080/",
          "height": 389
        },
        "id": "EiRRA9rdnKgc",
        "outputId": "b8473896-fbd3-4bbb-fdda-7f92e1a2eca3"
      },
      "source": [
        "nova_count = df_nova['nova_grade'].value_counts().reset_index()\n",
        "nova_count = nova_count.rename(columns={'index':'nova_grade','nova_grade':'count'})\n",
        "nova_count.sort_values('count',ascending=False,inplace=True)\n",
        "\n",
        "plt.figure(figsize=(8,6))\n",
        "plt.subplot()\n",
        "nplot = sns.barplot(data=nova_count, x='nova_grade',y='count',order=nova_count['nova_grade'].values)\n",
        "\n",
        "for p in nplot.patches:\n",
        "  nplot.annotate(format(p.get_height(), '.0f'), \n",
        "                 (p.get_x() + p.get_width() / 2., p.get_height()+10000),\n",
        "                 ha = 'center', va='center',\n",
        "                 xytext=(0,-12),\n",
        "                textcoords = 'offset points')\n",
        "plt.ylim(top=145000)\n",
        "plt.show()"
      ],
      "execution_count": null,
      "outputs": [
        {
          "output_type": "display_data",
          "data": {
            "image/png": "[encoded data removed]",
            "text/plain": [
              "<Figure size 576x432 with 1 Axes>"
            ]
          },
          "metadata": {
            "needs_background": "light"
          }
        }
      ]
    },
    {
      "cell_type": "markdown",
      "metadata": {
        "id": "76bkiwZF3YPW"
      },
      "source": [
        "Due to the imbalanced nature of the target, SMOTE method which is an Over-sampling approach that creates synthetic minority class samples will be implemented in the pipeline"
      ]
    },
    {
      "cell_type": "markdown",
      "metadata": {
        "id": "-L7778iKzBAQ"
      },
      "source": [
        "##Split data"
      ]
    },
    {
      "cell_type": "code",
      "metadata": {
        "colab": {
          "base_uri": "https://localhost:8080/"
        },
        "id": "ircueIgx6wJD",
        "outputId": "a040b6df-6170-4c42-8d00-3148a88ec205"
      },
      "source": [
        "X = df_nova.drop(columns=['nova_grade'])\n",
        "y = df_nova['nova_grade']\n",
        "\n",
        "# train-test-split\n",
        "X_train, X_test, y_train, y_test = train_test_split(X,y, test_size=0.2, random_state=42, stratify=y)\n",
        "print(X_train.shape, y_train.shape)\n",
        "print(X_test.shape, y_test.shape)"
      ],
      "execution_count": null,
      "outputs": [
        {
          "output_type": "stream",
          "name": "stdout",
          "text": [
            "(152643, 11) (152643,)\n",
            "(38161, 11) (38161,)\n"
          ]
        }
      ]
    },
    {
      "cell_type": "code",
      "metadata": {
        "id": "cw_M4LXDHSpQ"
      },
      "source": [
        "def get_samples(n_samples, X, y=None):\n",
        "  \"\"\"Get n_samples randomly from dataset\"\"\"\n",
        "  np.random.seed(42)\n",
        "  samples_index = np.random.choice(np.arange(len(X)), n_samples, replace=False)\n",
        "  if not y is None:\n",
        "    return X.iloc[samples_index], y.iloc[samples_index]  \n",
        "  return X.iloc[samples_index]\n",
        "\n",
        "# Get a smaller sample size for faster training\n",
        "n_samples = 50000\n",
        "X_train_sample, y_train_sample = get_samples(n_samples, X_train, y_train)"
      ],
      "execution_count": null,
      "outputs": []
    },
    {
      "cell_type": "markdown",
      "metadata": {
        "id": "c1XePfX58lIz"
      },
      "source": [
        "## Baseline model"
      ]
    },
    {
      "cell_type": "markdown",
      "metadata": {
        "id": "x4wfBV5iJilY"
      },
      "source": [
        "###Dummy Classifier"
      ]
    },
    {
      "cell_type": "markdown",
      "metadata": {
        "id": "QKigH9DnG651"
      },
      "source": [
        "DummyClassifier is a classifier model that makes predictions without trying to find patterns in the data"
      ]
    },
    {
      "cell_type": "code",
      "metadata": {
        "colab": {
          "base_uri": "https://localhost:8080/",
          "height": 443
        },
        "id": "Oluq14vfGL-q",
        "outputId": "d530e572-4fc8-4473-fb57-936fe02de78e"
      },
      "source": [
        "pipe_dum = Pipeline([('smt', SMOTE(random_state=42)),\n",
        "                    ('scaler',StandardScaler()),\n",
        "                    ('model',DummyClassifier(strategy='stratified'))\n",
        "                    ])\n",
        "\n",
        "pipe_dum.fit(X_train, y_train)\n",
        "\n",
        "y_pred = pipe_dum.predict(X_test)\n",
        "\n",
        "sns.heatmap(data=confusion_matrix(y_test, y_pred), annot=True,fmt = \".0f\")\n",
        "print(classification_report(y_test, y_pred, digits=3))"
      ],
      "execution_count": null,
      "outputs": [
        {
          "output_type": "stream",
          "name": "stdout",
          "text": [
            "              precision    recall  f1-score   support\n",
            "\n",
            "         1.0      0.103     0.254     0.146      4835\n",
            "         2.0      0.010     0.252     0.019       468\n",
            "         3.0      0.212     0.251     0.230     10176\n",
            "         4.0      0.678     0.249     0.364     32351\n",
            "\n",
            "    accuracy                          0.250     47830\n",
            "   macro avg      0.251     0.251     0.190     47830\n",
            "weighted avg      0.514     0.250     0.310     47830\n",
            "\n"
          ]
        },
        {
          "output_type": "display_data",
          "data": {
            "image/png": "[encoded data removed]",
            "text/plain": [
              "<Figure size 432x288 with 2 Axes>"
            ]
          },
          "metadata": {
            "needs_background": "light"
          }
        }
      ]
    },
    {
      "cell_type": "code",
      "metadata": {
        "colab": {
          "base_uri": "https://localhost:8080/"
        },
        "id": "6zxZf4o2c3jh",
        "outputId": "f0a3996e-8f89-435b-f2f9-ea3eb8009d3d"
      },
      "source": [
        "print(\"Acc:\", accuracy_score(y_test, y_pred))\n",
        "print(\"ROC_AUC:\", roc_auc_score(y_test, pipe_dum.predict_proba(X_test), multi_class='ovo'))\n",
        "print(\"F1:\", f1_score(y_test, y_pred, average='weighted'))\n",
        "print(\"Fbeta:\", fbeta_score(y_test, y_pred, beta=0.5, average='macro'))"
      ],
      "execution_count": null,
      "outputs": [
        {
          "output_type": "stream",
          "name": "stdout",
          "text": [
            "Acc: 0.24984319464771065\n",
            "ROC_AUC: 0.5007015396264499\n",
            "F1: 0.3102046366584849\n",
            "Fbeta: 0.21292835836162838\n"
          ]
        }
      ]
    },
    {
      "cell_type": "markdown",
      "metadata": {
        "id": "TUK554tpdjc8"
      },
      "source": [
        "##Benchmark (Cross-val)"
      ]
    },
    {
      "cell_type": "code",
      "metadata": {
        "id": "gqvph8Dkg2ht"
      },
      "source": [
        "models_dict = {\"Dummy Classifier\": DummyClassifier(),\n",
        "            \"Logistic Regression\": LogisticRegression(),\n",
        "            \"DecisionTreeClassifier\": DecisionTreeClassifier(),\n",
        "            \"RandomForestClassifier\": RandomForestClassifier(),\n",
        "            \"LGBMClassifier\": LGBMClassifier()\n",
        "  }\n",
        "fbeta = make_scorer(fbeta_score, beta=0.5, average='weighted')\n",
        "roc_auc = make_scorer(roc_auc_score, multi_class='ovo',needs_proba=True)\n",
        "\n",
        "metrics = {\"Accuracy\": \"accuracy\",\n",
        "           \"F1_weighted\": \"f1_weighted\",\n",
        "           \"Fbeta\": fbeta,\n",
        "           \"ROC_AUC\": roc_auc}\n",
        "           \n",
        "cv = KFold(n_splits=5, shuffle=True, random_state=42)           "
      ],
      "execution_count": null,
      "outputs": []
    },
    {
      "cell_type": "code",
      "metadata": {
        "colab": {
          "base_uri": "https://localhost:8080/"
        },
        "id": "-24Xh2_NgLqa",
        "outputId": "8580ac91-a16e-46dd-b618-01648f99a2f1"
      },
      "source": [
        "# Benchmark cross-validation scores for training data of 180K\n",
        "for model_name, model in models_dict.items():\n",
        "  print(model_name + \":\")\n",
        "  for metric_name, metric in metrics.items():\n",
        "    pipe = Pipeline([('smt', SMOTE(random_state=42)),  \n",
        "                    ('scaler',StandardScaler()),\n",
        "                    (model_name, model)])\n",
        "    \n",
        "    score = np.mean(cross_val_score(pipe, X_train, y_train, cv=cv, scoring= metric))\n",
        "    print(\"\\t\" + metric_name + f\": {score}\")\n",
        "  # print(\"\\n\")"
      ],
      "execution_count": null,
      "outputs": [
        {
          "output_type": "stream",
          "name": "stdout",
          "text": [
            "Dummy Classifier:\n",
            "\tAccuracy: 0.25023232191811673\n",
            "\tF1_weighted: 0.3112457917310036\n",
            "\tFbeta: 0.40191470351984576\n",
            "\tROC_AUC: 0.49846583094545077\n",
            "Logistic Regression:\n",
            "\tAccuracy: 0.7312270891754594\n",
            "\tF1_weighted: 0.7571801586580211\n",
            "\tFbeta: 0.7862144622676099\n",
            "\tROC_AUC: 0.9258979482625188\n",
            "DecisionTreeClassifier:\n",
            "\tAccuracy: 0.8751880589481992\n",
            "\tF1_weighted: 0.8763441894478484\n",
            "\tFbeta: 0.8770437083875942\n",
            "\tROC_AUC: 0.8977670939575116\n",
            "RandomForestClassifier:\n",
            "\tAccuracy: 0.9064228618406934\n",
            "\tF1_weighted: 0.9071816827686838\n",
            "\tFbeta: 0.907563489439349\n",
            "\tROC_AUC: 0.9788602657577117\n",
            "LGBMClassifier:\n",
            "\tAccuracy: 0.8519624852750661\n",
            "\tF1_weighted: 0.8558707846898372\n",
            "\tFbeta: 0.8606213346182308\n",
            "\tROC_AUC: 0.9735314377417719\n"
          ]
        }
      ]
    },
    {
      "cell_type": "code",
      "metadata": {
        "id": "E6urWUK8o-ci"
      },
      "source": [
        "#put in df\n",
        "fbeta = make_scorer(fbeta_score, beta=0.5, average='weighted')\n",
        "roc_auc = make_scorer(roc_auc_score, multi_class='ovo',needs_proba=True)\n",
        "\n",
        "def baseline_report_cv_(model, X_train, y_train, n_splits, name):\n",
        "  cv = KFold(n_splits=n_splits, shuffle=True, random_state=42)   \n",
        "\n",
        "  accuracy     = np.mean(cross_val_score(model, X_train, y_train,cv=cv, scoring='accuracy'))\n",
        "  f1_weighted      = np.mean(cross_val_score(model, X_train, y_train,cv=cv, scoring='f1_weighted'))\n",
        "  fbeta_score  = np.mean(cross_val_score(model, X_train, y_train, cv=cv, scoring= fbeta))\n",
        "  rocauc       = np.mean(cross_val_score(model, X_train, y_train,cv=cv, scoring=roc_auc))\n",
        "\n",
        "  scores_df = pd.DataFrame({'model'        : [name],\n",
        "                             'accuracy'     : [accuracy],\n",
        "                             'f1_weighted'      : [f1_weighted],\n",
        "                             'fbeta'        : [fbeta_score],\n",
        "                             'rocauc'       : [rocauc]})\n",
        "  return scores_df"
      ],
      "execution_count": null,
      "outputs": []
    },
    {
      "cell_type": "code",
      "metadata": {
        "id": "bGjZ8QmWqynJ"
      },
      "source": [
        "pipe_dum = Pipeline([('smt', SMOTE(random_state=42)),\n",
        "                    ('scaler',StandardScaler()),\n",
        "                    ('model',DummyClassifier(strategy='stratified'))\n",
        "                    ])\n",
        "pipe_lr = Pipeline([('smt', SMOTE(random_state=42)),\n",
        "                    ('scaler',StandardScaler()),\n",
        "                    ('model',LogisticRegression())\n",
        "                    ])\n",
        "pipe_rfc = Pipeline([('smt', SMOTE(random_state=42)),\n",
        "                    ('scaler',StandardScaler()),\n",
        "                    ('model',RandomForestClassifier())])\n",
        "pipe_dtc = Pipeline([('smt', SMOTE(random_state=42)),\n",
        "                    ('scaler',StandardScaler()),\n",
        "                    ('model',DecisionTreeClassifier())])\n",
        "pipe_lgbm = Pipeline([('smt', SMOTE(random_state=42)),\n",
        "                    ('scaler',StandardScaler()),\n",
        "                    ('model',LGBMClassifier())\n",
        "                    ])"
      ],
      "execution_count": null,
      "outputs": []
    },
    {
      "cell_type": "code",
      "metadata": {
        "id": "2p3Uu9zpgOWN"
      },
      "source": [
        "scores_df = pd.concat([baseline_report_cv_(pipe_dum, X_train, y_train, 5, 'DummyClassifier'),\n",
        "                       baseline_report_cv_(pipe_lr, X_train, y_train, 5, 'LogisticRegression'),\n",
        "                       baseline_report_cv_(pipe_rfc, X_train, y_train, 5, 'DecisionTreeClassifier'),\n",
        "                       baseline_report_cv_(pipe_dtc, X_train, y_train, 5, 'RandomForestClassifier'),\n",
        "                       baseline_report_cv_(pipe_lgbm, X_train, y_train, 5, 'LGBMClassifier')\n",
        "                       ], axis=0).reset_index()"
      ],
      "execution_count": null,
      "outputs": []
    },
    {
      "cell_type": "code",
      "metadata": {
        "colab": {
          "base_uri": "https://localhost:8080/",
          "height": 204
        },
        "id": "tG6_TMX5j1gv",
        "outputId": "8248d0e6-6c38-4aed-a1f5-927b1ad45eeb"
      },
      "source": [
        "scores = scores_df.drop(\"index\", axis=1)\n",
        "scores.index +=1\n",
        "scores"
      ],
      "execution_count": null,
      "outputs": [
        {
          "output_type": "execute_result",
          "data": {
            "text/html": [
              "<div>\n",
              "<style scoped>\n",
              "    .dataframe tbody tr th:only-of-type {\n",
              "        vertical-align: middle;\n",
              "    }\n",
              "\n",
              "    .dataframe tbody tr th {\n",
              "        vertical-align: top;\n",
              "    }\n",
              "\n",
              "    .dataframe thead th {\n",
              "        text-align: right;\n",
              "    }\n",
              "</style>\n",
              "<table border=\"1\" class=\"dataframe\">\n",
              "  <thead>\n",
              "    <tr style=\"text-align: right;\">\n",
              "      <th></th>\n",
              "      <th>model</th>\n",
              "      <th>accuracy</th>\n",
              "      <th>f1_weighted</th>\n",
              "      <th>fbeta</th>\n",
              "      <th>rocauc</th>\n",
              "    </tr>\n",
              "  </thead>\n",
              "  <tbody>\n",
              "    <tr>\n",
              "      <th>1</th>\n",
              "      <td>DummyClassifier</td>\n",
              "      <td>0.250607</td>\n",
              "      <td>0.311207</td>\n",
              "      <td>0.398239</td>\n",
              "      <td>0.503446</td>\n",
              "    </tr>\n",
              "    <tr>\n",
              "      <th>2</th>\n",
              "      <td>LogisticRegression</td>\n",
              "      <td>0.722981</td>\n",
              "      <td>0.751057</td>\n",
              "      <td>0.781360</td>\n",
              "      <td>0.920968</td>\n",
              "    </tr>\n",
              "    <tr>\n",
              "      <th>3</th>\n",
              "      <td>DecisionTreeClassifier</td>\n",
              "      <td>0.904365</td>\n",
              "      <td>0.905091</td>\n",
              "      <td>0.905551</td>\n",
              "      <td>0.976237</td>\n",
              "    </tr>\n",
              "    <tr>\n",
              "      <th>4</th>\n",
              "      <td>RandomForestClassifier</td>\n",
              "      <td>0.872408</td>\n",
              "      <td>0.873689</td>\n",
              "      <td>0.874652</td>\n",
              "      <td>0.894013</td>\n",
              "    </tr>\n",
              "    <tr>\n",
              "      <th>5</th>\n",
              "      <td>LGBMClassifier</td>\n",
              "      <td>0.849421</td>\n",
              "      <td>0.853567</td>\n",
              "      <td>0.858507</td>\n",
              "      <td>0.971897</td>\n",
              "    </tr>\n",
              "  </tbody>\n",
              "</table>\n",
              "</div>"
            ],
            "text/plain": [
              "                    model  accuracy  f1_weighted     fbeta    rocauc\n",
              "1         DummyClassifier  0.250607     0.311207  0.398239  0.503446\n",
              "2      LogisticRegression  0.722981     0.751057  0.781360  0.920968\n",
              "3  DecisionTreeClassifier  0.904365     0.905091  0.905551  0.976237\n",
              "4  RandomForestClassifier  0.872408     0.873689  0.874652  0.894013\n",
              "5          LGBMClassifier  0.849421     0.853567  0.858507  0.971897"
            ]
          },
          "metadata": {},
          "execution_count": 169
        }
      ]
    },
    {
      "cell_type": "code",
      "metadata": {
        "id": "_bpAcTSJ8Fii"
      },
      "source": [
        "scores.to_csv(\"/content/gdrive/MyDrive/Colab Notebooks/FINAL PROJECT/Saved_files/Dataset/nova_benchmark_df.csv\", index=False)"
      ],
      "execution_count": null,
      "outputs": []
    },
    {
      "cell_type": "code",
      "metadata": {
        "id": "2Lew-ebFjpXw"
      },
      "source": [
        "scores = pd.read_csv(\"/content/gdrive/MyDrive/Colab Notebooks/FINAL PROJECT/Saved_files/nova_benchmark_df.csv\")"
      ],
      "execution_count": null,
      "outputs": []
    },
    {
      "cell_type": "markdown",
      "metadata": {
        "id": "hqiBAyKrgg_z"
      },
      "source": [
        "**Comment:** Random Forest Classifier has the highest scores for all metrics and will be fine-tuned for the Final Model "
      ]
    },
    {
      "cell_type": "markdown",
      "metadata": {
        "id": "bWp8hyzoJnI-"
      },
      "source": [
        "##Benchmark"
      ]
    },
    {
      "cell_type": "markdown",
      "metadata": {
        "id": "vVO0KT25JpN5"
      },
      "source": [
        "####Logistic Regression"
      ]
    },
    {
      "cell_type": "code",
      "metadata": {
        "id": "agY0pwqwGMYt",
        "colab": {
          "base_uri": "https://localhost:8080/",
          "height": 460
        },
        "outputId": "413c9be1-77f6-4eb8-c505-d068fbfebc88"
      },
      "source": [
        "pipe_lr = Pipeline([('smt', SMOTE(random_state=42)),\n",
        "                    ('scaler',StandardScaler()),\n",
        "                    ('model',LogisticRegression())\n",
        "                    ])\n",
        "\n",
        "pipe_lr.fit(X_train, y_train)\n",
        "\n",
        "y_pred = pipe_lr.predict(X_test)\n",
        "\n",
        "print(classification_report(y_test, y_pred, digits=3))\n",
        "sns.heatmap(data=confusion_matrix(y_test, y_pred), annot=True,fmt = \".0f\")"
      ],
      "execution_count": null,
      "outputs": [
        {
          "output_type": "stream",
          "name": "stdout",
          "text": [
            "              precision    recall  f1-score   support\n",
            "\n",
            "         1.0      0.575     0.871     0.693      4835\n",
            "         2.0      0.136     0.895     0.236       468\n",
            "         3.0      0.491     0.566     0.525     10176\n",
            "         4.0      0.949     0.754     0.840     32351\n",
            "\n",
            "    accuracy                          0.727     47830\n",
            "   macro avg      0.538     0.771     0.574     47830\n",
            "weighted avg      0.806     0.727     0.752     47830\n",
            "\n"
          ]
        },
        {
          "output_type": "execute_result",
          "data": {
            "text/plain": [
              "<matplotlib.axes._subplots.AxesSubplot at 0x7f3a439c0910>"
            ]
          },
          "metadata": {},
          "execution_count": 40
        },
        {
          "output_type": "display_data",
          "data": {
            "image/png": "[encoded data removed]",
            "text/plain": [
              "<Figure size 432x288 with 2 Axes>"
            ]
          },
          "metadata": {
            "needs_background": "light"
          }
        }
      ]
    },
    {
      "cell_type": "code",
      "metadata": {
        "colab": {
          "base_uri": "https://localhost:8080/"
        },
        "id": "gOplNPvzcSwh",
        "outputId": "b2beddb3-acf6-4e47-d685-92ba09d9664e"
      },
      "source": [
        "print(\"Acc:\", accuracy_score(y_test, y_pred))\n",
        "print(\"ROC_AUC:\", roc_auc_score(y_test, pipe_lr.predict_proba(X_test), multi_class='ovo'))\n",
        "print(\"F1:\", f1_score(y_test, y_pred, average='weighted'))\n",
        "print(\"Fbeta:\", fbeta_score(y_test, y_pred, beta=0.5, average='macro'))"
      ],
      "execution_count": null,
      "outputs": [
        {
          "output_type": "stream",
          "name": "stdout",
          "text": [
            "Acc: 0.7268659836922433\n",
            "ROC_AUC: 0.9277030239614207\n",
            "F1: 0.752292089806005\n",
            "Fbeta: 0.546701322739955\n"
          ]
        }
      ]
    },
    {
      "cell_type": "markdown",
      "metadata": {
        "id": "BwAAIc3hLUsd"
      },
      "source": [
        "####KNN"
      ]
    },
    {
      "cell_type": "code",
      "metadata": {
        "colab": {
          "base_uri": "https://localhost:8080/",
          "height": 477
        },
        "id": "NIfP_6KhLVhV",
        "outputId": "24a1648f-11b9-4697-8019-c8cdecc1439d"
      },
      "source": [
        "pipe_knn = Pipeline([('smt', SMOTE(random_state=42)),\n",
        "                    ('scaler',StandardScaler()),\n",
        "                    ('model',KNeighborsClassifier())\n",
        "                    ])\n",
        "\n",
        "pipe_knn.fit(X_train, y_train)\n",
        "\n",
        "y_pred = pipe_knn.predict(X_test)\n",
        "\n",
        "print(classification_report(y_test, y_pred, digits=3))\n",
        "sns.heatmap(data=confusion_matrix(y_test, y_pred), annot=True,fmt = \".0f\")"
      ],
      "execution_count": null,
      "outputs": [
        {
          "output_type": "stream",
          "name": "stdout",
          "text": [
            "              precision    recall  f1-score   support\n",
            "\n",
            "         1.0      0.815     0.919     0.863      4586\n",
            "         2.0      0.546     0.893     0.678       422\n",
            "         3.0      0.686     0.811     0.743      9536\n",
            "         4.0      0.956     0.875     0.914     30655\n",
            "\n",
            "    accuracy                          0.866     45199\n",
            "   macro avg      0.751     0.874     0.800     45199\n",
            "weighted avg      0.881     0.866     0.870     45199\n",
            "\n"
          ]
        },
        {
          "output_type": "execute_result",
          "data": {
            "text/plain": [
              "<matplotlib.axes._subplots.AxesSubplot at 0x7f8265835e90>"
            ]
          },
          "metadata": {},
          "execution_count": 139
        },
        {
          "output_type": "display_data",
          "data": {
            "image/png": "[encoded data removed]",
            "text/plain": [
              "<Figure size 432x288 with 2 Axes>"
            ]
          },
          "metadata": {
            "needs_background": "light"
          }
        }
      ]
    },
    {
      "cell_type": "code",
      "metadata": {
        "colab": {
          "base_uri": "https://localhost:8080/"
        },
        "id": "O0TzI1P-6NpI",
        "outputId": "91ee50f5-7ddc-4843-e162-40051d501b22"
      },
      "source": [
        "print(\"Acc:\",accuracy_score(y_test, y_pred))\n",
        "print(\"ROC_AUC:\",roc_auc_score(y_test, pipe_knn.predict_proba(X_test), multi_class='ovo'))\n",
        "print(\"F1\",f1_score(y_test, y_pred, average='weighted'))\n",
        "print(\"Fbeta\",fbeta_score(y_test, y_pred, beta=0.5, average='macro'))"
      ],
      "execution_count": null,
      "outputs": [
        {
          "output_type": "stream",
          "name": "stdout",
          "text": [
            "Acc: 0.8661032323723976\n",
            "ROC_AUC: 0.9494179071109583\n",
            "F1 0.870385740402514\n",
            "Fbeta 0.768057568188266\n"
          ]
        }
      ]
    },
    {
      "cell_type": "markdown",
      "metadata": {
        "id": "FLBzTqd_JrPr"
      },
      "source": [
        "####Random Forest"
      ]
    },
    {
      "cell_type": "code",
      "metadata": {
        "colab": {
          "base_uri": "https://localhost:8080/",
          "height": 446
        },
        "id": "j2zeJLoiQ4aE",
        "outputId": "a9044d17-35ff-4ef6-be2e-c02ff6e0ec3f"
      },
      "source": [
        "pipe_rfc = Pipeline([('smt', SMOTE(random_state=42)),\n",
        "                    ('scaler',StandardScaler()),\n",
        "                    ('model',RandomForestClassifier())])\n",
        "pipe_rfc.fit(X_train, y_train)\n",
        "\n",
        "y_pred = pipe_rfc.predict(X_test)\n",
        "\n",
        "sns.heatmap(data=confusion_matrix(y_test, y_pred), annot=True,fmt = \".0f\")\n",
        "print(classification_report(y_test, y_pred, digits=3))"
      ],
      "execution_count": null,
      "outputs": [
        {
          "output_type": "stream",
          "name": "stdout",
          "text": [
            "              precision    recall  f1-score   support\n",
            "\n",
            "         1.0      0.886     0.926     0.906      4835\n",
            "         2.0      0.716     0.876     0.788       468\n",
            "         3.0      0.802     0.815     0.809     10176\n",
            "         4.0      0.950     0.936     0.943     32351\n",
            "\n",
            "    accuracy                          0.909     47830\n",
            "   macro avg      0.838     0.888     0.861     47830\n",
            "weighted avg      0.910     0.909     0.909     47830\n",
            "\n"
          ]
        },
        {
          "output_type": "display_data",
          "data": {
            "image/png": "[encoded data removed]",
            "text/plain": [
              "<Figure size 432x288 with 2 Axes>"
            ]
          },
          "metadata": {
            "needs_background": "light"
          }
        }
      ]
    },
    {
      "cell_type": "code",
      "metadata": {
        "colab": {
          "base_uri": "https://localhost:8080/"
        },
        "id": "J13op-A9cdn0",
        "outputId": "1cf1bc51-4c63-4353-fced-35582b8a9d3f"
      },
      "source": [
        "print(\"Acc:\",accuracy_score(y_test, y_pred))\n",
        "print(\"ROC_AUC:\",roc_auc_score(y_test, pipe_rfc.predict_proba(X_test), multi_class='ovo'))\n",
        "print(\"F1\",f1_score(y_test, y_pred, average='weighted'))\n",
        "print(\"Fbeta\",fbeta_score(y_test, y_pred, beta=0.5, average='macro'))"
      ],
      "execution_count": null,
      "outputs": [
        {
          "output_type": "stream",
          "name": "stdout",
          "text": [
            "Acc: 0.9087392849675936\n",
            "ROC_AUC: 0.9797257819584487\n",
            "F1 0.9092286879024433\n",
            "Fbeta 0.8471695609866265\n"
          ]
        }
      ]
    },
    {
      "cell_type": "markdown",
      "metadata": {
        "id": "DB2FjyjjQBp-"
      },
      "source": [
        "####SVC"
      ]
    },
    {
      "cell_type": "code",
      "metadata": {
        "colab": {
          "base_uri": "https://localhost:8080/",
          "height": 477
        },
        "id": "MALf14vnQD07",
        "outputId": "8d0fc28a-d82e-4045-e711-673494236715"
      },
      "source": [
        "pipe_svc = Pipeline([('smt', SMOTE(random_state=42)),\n",
        "                    ('scaler',MinMaxScaler()),\n",
        "                    ('model',SVC())\n",
        "                    ])\n",
        "\n",
        "pipe_svc.fit(X_train, y_train)\n",
        "y_pred = pipe_svc.predict(X_test)\n",
        "\n",
        "print(classification_report(y_test, y_pred, digits=3))\n",
        "sns.heatmap(data=confusion_matrix(y_test, y_pred), annot=True,fmt = \".0f\")"
      ],
      "execution_count": null,
      "outputs": [
        {
          "output_type": "stream",
          "name": "stdout",
          "text": [
            "              precision    recall  f1-score   support\n",
            "\n",
            "         1.0      0.631     0.908     0.744      4586\n",
            "         2.0      0.218     0.919     0.352       422\n",
            "         3.0      0.544     0.671     0.600      9536\n",
            "         4.0      0.954     0.780     0.858     30655\n",
            "\n",
            "    accuracy                          0.771     45199\n",
            "   macro avg      0.586     0.819     0.639     45199\n",
            "weighted avg      0.828     0.771     0.787     45199\n",
            "\n"
          ]
        },
        {
          "output_type": "execute_result",
          "data": {
            "text/plain": [
              "<matplotlib.axes._subplots.AxesSubplot at 0x7f82630153d0>"
            ]
          },
          "metadata": {},
          "execution_count": 146
        },
        {
          "output_type": "display_data",
          "data": {
            "image/png": "[encoded data removed]",
            "text/plain": [
              "<Figure size 432x288 with 2 Axes>"
            ]
          },
          "metadata": {
            "needs_background": "light"
          }
        }
      ]
    },
    {
      "cell_type": "code",
      "metadata": {
        "colab": {
          "base_uri": "https://localhost:8080/"
        },
        "id": "t_Dcw3n2JNYt",
        "outputId": "51d47f96-c481-4f51-b738-c4bdfddff7df"
      },
      "source": [
        "print(\"Acc:\",accuracy_score(y_test, y_pred))\n",
        "print(\"F1:\",f1_score(y_test, y_pred, average='weighted'))\n",
        "print(\"Fbeta:\",fbeta_score(y_test, y_pred, beta=0.5, average='macro'))"
      ],
      "execution_count": null,
      "outputs": [
        {
          "output_type": "stream",
          "name": "stdout",
          "text": [
            "Acc: 0.7708798867231575\n",
            "F1: 0.7873484485728998\n",
            "Fbeta: 0.6016978796151916\n"
          ]
        }
      ]
    },
    {
      "cell_type": "markdown",
      "metadata": {
        "id": "ixzirap8Qd-a"
      },
      "source": [
        "###LGBMClassifier"
      ]
    },
    {
      "cell_type": "code",
      "metadata": {
        "colab": {
          "base_uri": "https://localhost:8080/",
          "height": 460
        },
        "id": "7-YVDaCNQhQx",
        "outputId": "78841dd0-1d4d-430e-c9e2-1f66a3dd158d"
      },
      "source": [
        "pipe_lgbm = Pipeline([('smt', SMOTE(random_state=42)),\n",
        "                    ('scaler',MinMaxScaler()),\n",
        "                    ('model',LGBMClassifier())\n",
        "                    ])\n",
        "\n",
        "pipe_lgbm.fit(X_train, y_train)\n",
        "\n",
        "y_pred = pipe_lgbm.predict(X_test)\n",
        "\n",
        "sns.heatmap(data=confusion_matrix(y_test, y_pred), annot=True,fmt = \".0f\")\n",
        "print(classification_report(y_test, y_pred, digits=3))"
      ],
      "execution_count": null,
      "outputs": [
        {
          "output_type": "stream",
          "name": "stdout",
          "text": [
            "              precision    recall  f1-score   support\n",
            "\n",
            "         1.0      0.781     0.922     0.845      4586\n",
            "         2.0      0.481     0.915     0.630       422\n",
            "         3.0      0.668     0.750     0.707      9536\n",
            "         4.0      0.943     0.870     0.905     30655\n",
            "\n",
            "    accuracy                          0.850     45199\n",
            "   macro avg      0.718     0.864     0.772     45199\n",
            "weighted avg      0.864     0.850     0.855     45199\n",
            "\n"
          ]
        },
        {
          "output_type": "display_data",
          "data": {
            "image/png": "[encoded data removed]",
            "text/plain": [
              "<Figure size 432x288 with 2 Axes>"
            ]
          },
          "metadata": {
            "needs_background": "light"
          }
        }
      ]
    },
    {
      "cell_type": "code",
      "metadata": {
        "colab": {
          "base_uri": "https://localhost:8080/"
        },
        "id": "YAQcSu85PKg6",
        "outputId": "986d7df0-610a-475c-e63b-d4628b3e0ec0"
      },
      "source": [
        "print(\"Acc:\",accuracy_score(y_test, y_pred))\n",
        "print(\"ROC_AUC:\",roc_auc_score(y_test, pipe_lgbm.predict_proba(X_test), multi_class='ovo'))\n",
        "print(\"F1\",f1_score(y_test, y_pred, average='weighted'))\n",
        "print(\"Fbeta\",fbeta_score(y_test, y_pred, beta=0.5, average='macro'))"
      ],
      "execution_count": null,
      "outputs": [
        {
          "output_type": "stream",
          "name": "stdout",
          "text": [
            "Acc: 0.8504612933914467\n",
            "ROC_AUC: 0.9738852342890612\n",
            "F1 0.8547454447946051\n",
            "Fbeta 0.7368416949123331\n"
          ]
        }
      ]
    },
    {
      "cell_type": "markdown",
      "metadata": {
        "id": "G_XF1UE9qgxR"
      },
      "source": [
        "###ANN"
      ]
    },
    {
      "cell_type": "code",
      "metadata": {
        "id": "Ti8xakFQs-V2"
      },
      "source": [
        "# Oversampling\n",
        "smt = SMOTE(random_state=42)\n",
        "X_train_transformed, y_train_transformed = smt.fit_resample(X_train, y_train)\n",
        "X_test_transformed, y_test_transformed = smt.fit_resample(X_test, y_test)\n",
        "\n",
        "# Normalization\n",
        "scaler = StandardScaler()\n",
        "X_train_transformed =  scaler.fit_transform(X_train_transformed)\n",
        "X_test_transformed =  scaler.transform(X_test_transformed)\n",
        "\n",
        "y_train_transformed = y_train_transformed -1\n",
        "y_test_transformed = y_test_transformed -1"
      ],
      "execution_count": null,
      "outputs": []
    },
    {
      "cell_type": "code",
      "metadata": {
        "colab": {
          "base_uri": "https://localhost:8080/"
        },
        "id": "rG_-MWZpqheN",
        "outputId": "bd3aa88b-17da-4d82-dce0-1f3b101bec98"
      },
      "source": [
        "model = tf.keras.Sequential([\n",
        "          layers.Input(shape=(11,)),\n",
        "          layers.Dense(512, activation='relu'),\n",
        "          layers.Dense(256, activation='relu'),\n",
        "          layers.Dense(128, activation='relu'),\n",
        "          layers.Dense(64, activation='relu'),\n",
        "          layers.Dense(32, activation='relu'),\n",
        "          layers.Dense(16, activation='relu'),\n",
        "          layers.Dropout(0.2),\n",
        "          layers.Dense(4, activation='softmax')\n",
        "          ])\n",
        "\n",
        "model.compile(optimizer=\"adam\",\n",
        "              loss='sparse_categorical_crossentropy',\n",
        "              metrics=['accuracy'])\n",
        "\n",
        "history = model.fit(X_train_transformed, y_train_transformed, epochs=20, validation_data=(X_test_transformed, y_test_transformed))"
      ],
      "execution_count": null,
      "outputs": [
        {
          "output_type": "stream",
          "name": "stdout",
          "text": [
            "Epoch 1/20\n",
            "13411/13411 [==============================] - 66s 5ms/step - loss: 0.4320 - accuracy: 0.8444 - val_loss: 0.3991 - val_accuracy: 0.8571\n",
            "Epoch 2/20\n",
            "13411/13411 [==============================] - 59s 4ms/step - loss: 0.3568 - accuracy: 0.8704 - val_loss: 0.4025 - val_accuracy: 0.8674\n",
            "Epoch 3/20\n",
            "13411/13411 [==============================] - 61s 5ms/step - loss: 0.3277 - accuracy: 0.8806 - val_loss: 0.4313 - val_accuracy: 0.8676\n",
            "Epoch 4/20\n",
            "13411/13411 [==============================] - 55s 4ms/step - loss: 0.3111 - accuracy: 0.8863 - val_loss: 0.4581 - val_accuracy: 0.8698\n",
            "Epoch 5/20\n",
            "13411/13411 [==============================] - 57s 4ms/step - loss: 0.3001 - accuracy: 0.8905 - val_loss: 0.4670 - val_accuracy: 0.8726\n",
            "Epoch 6/20\n",
            "13411/13411 [==============================] - 59s 4ms/step - loss: 0.2897 - accuracy: 0.8939 - val_loss: 0.4417 - val_accuracy: 0.8748\n",
            "Epoch 7/20\n",
            "13411/13411 [==============================] - 66s 5ms/step - loss: 0.2822 - accuracy: 0.8965 - val_loss: 0.4326 - val_accuracy: 0.8746\n",
            "Epoch 8/20\n",
            "13411/13411 [==============================] - 63s 5ms/step - loss: 0.2761 - accuracy: 0.8995 - val_loss: 0.4878 - val_accuracy: 0.8769\n",
            "Epoch 9/20\n",
            "13411/13411 [==============================] - 63s 5ms/step - loss: 0.2702 - accuracy: 0.9019 - val_loss: 0.5262 - val_accuracy: 0.8743\n",
            "Epoch 10/20\n",
            "13411/13411 [==============================] - 64s 5ms/step - loss: 0.2669 - accuracy: 0.9028 - val_loss: 0.4652 - val_accuracy: 0.8765\n",
            "Epoch 11/20\n",
            "13411/13411 [==============================] - 65s 5ms/step - loss: 0.2615 - accuracy: 0.9045 - val_loss: 0.5302 - val_accuracy: 0.8753\n",
            "Epoch 12/20\n",
            "13411/13411 [==============================] - 67s 5ms/step - loss: 0.2572 - accuracy: 0.9063 - val_loss: 0.5414 - val_accuracy: 0.8748\n",
            "Epoch 13/20\n",
            "13411/13411 [==============================] - 67s 5ms/step - loss: 0.2531 - accuracy: 0.9084 - val_loss: 0.4978 - val_accuracy: 0.8778\n",
            "Epoch 14/20\n",
            "13411/13411 [==============================] - 65s 5ms/step - loss: 0.2500 - accuracy: 0.9099 - val_loss: 0.4929 - val_accuracy: 0.8782\n",
            "Epoch 15/20\n",
            "13411/13411 [==============================] - 66s 5ms/step - loss: 0.2472 - accuracy: 0.9108 - val_loss: 0.6672 - val_accuracy: 0.8743\n",
            "Epoch 16/20\n",
            "13411/13411 [==============================] - 67s 5ms/step - loss: 0.2447 - accuracy: 0.9116 - val_loss: 0.5531 - val_accuracy: 0.8792\n",
            "Epoch 17/20\n",
            "13411/13411 [==============================] - 69s 5ms/step - loss: 0.2407 - accuracy: 0.9128 - val_loss: 0.5652 - val_accuracy: 0.8783\n",
            "Epoch 18/20\n",
            "13411/13411 [==============================] - 67s 5ms/step - loss: 0.2402 - accuracy: 0.9135 - val_loss: 0.5264 - val_accuracy: 0.8786\n",
            "Epoch 19/20\n",
            "13411/13411 [==============================] - 67s 5ms/step - loss: 0.2376 - accuracy: 0.9144 - val_loss: 0.6334 - val_accuracy: 0.8785\n",
            "Epoch 20/20\n",
            "13411/13411 [==============================] - 67s 5ms/step - loss: 0.2359 - accuracy: 0.9154 - val_loss: 0.6184 - val_accuracy: 0.8772\n"
          ]
        }
      ]
    },
    {
      "cell_type": "code",
      "metadata": {
        "colab": {
          "base_uri": "https://localhost:8080/"
        },
        "id": "KbpLJ5d0gdyo",
        "outputId": "030c2d0e-13c7-441b-99d0-86d08ff37bb0"
      },
      "source": [
        "model = tf.keras.Sequential([\n",
        "          layers.Input(shape=(11,)),\n",
        "          layers.Dense(16, activation='relu'),\n",
        "          layers.Dense(32, activation='relu'),\n",
        "          layers.Dense(64, activation='relu'),\n",
        "          layers.Dense(128, activation='relu'),\n",
        "          \n",
        "          layers.Dropout(0.2),\n",
        "          layers.Dense(4, activation='softmax')\n",
        "          ])\n",
        "\n",
        "model.compile(optimizer=\"adam\",\n",
        "              loss='sparse_categorical_crossentropy',\n",
        "              metrics=['accuracy'])\n",
        "\n",
        "history = model.fit(X_train_transformed, y_train_transformed, epochs=20, validation_data=(X_test_transformed, y_test_transformed))"
      ],
      "execution_count": null,
      "outputs": [
        {
          "output_type": "stream",
          "name": "stdout",
          "text": [
            "Epoch 1/20\n",
            "15328/15328 [==============================] - 30s 2ms/step - loss: 0.4246 - accuracy: 0.8406 - val_loss: 0.3996 - val_accuracy: 0.8509\n",
            "Epoch 2/20\n",
            "15328/15328 [==============================] - 28s 2ms/step - loss: 0.3683 - accuracy: 0.8612 - val_loss: 0.3834 - val_accuracy: 0.8617\n",
            "Epoch 3/20\n",
            "15328/15328 [==============================] - 30s 2ms/step - loss: 0.3511 - accuracy: 0.8669 - val_loss: 0.3817 - val_accuracy: 0.8645\n",
            "Epoch 4/20\n",
            "15328/15328 [==============================] - 28s 2ms/step - loss: 0.3400 - accuracy: 0.8716 - val_loss: 0.3892 - val_accuracy: 0.8671\n",
            "Epoch 5/20\n",
            "15328/15328 [==============================] - 27s 2ms/step - loss: 0.3332 - accuracy: 0.8742 - val_loss: 0.3987 - val_accuracy: 0.8626\n",
            "Epoch 6/20\n",
            "15328/15328 [==============================] - 28s 2ms/step - loss: 0.3267 - accuracy: 0.8767 - val_loss: 0.4058 - val_accuracy: 0.8651\n",
            "Epoch 7/20\n",
            "15328/15328 [==============================] - 27s 2ms/step - loss: 0.3226 - accuracy: 0.8783 - val_loss: 0.4012 - val_accuracy: 0.8670\n",
            "Epoch 8/20\n",
            "15328/15328 [==============================] - 27s 2ms/step - loss: 0.3179 - accuracy: 0.8802 - val_loss: 0.4181 - val_accuracy: 0.8658\n",
            "Epoch 9/20\n",
            "15328/15328 [==============================] - 29s 2ms/step - loss: 0.3149 - accuracy: 0.8813 - val_loss: 0.4253 - val_accuracy: 0.8657\n",
            "Epoch 10/20\n",
            "15328/15328 [==============================] - 28s 2ms/step - loss: 0.3121 - accuracy: 0.8822 - val_loss: 0.4415 - val_accuracy: 0.8650\n",
            "Epoch 11/20\n",
            "15328/15328 [==============================] - 27s 2ms/step - loss: 0.3097 - accuracy: 0.8835 - val_loss: 0.4201 - val_accuracy: 0.8674\n",
            "Epoch 12/20\n",
            "15328/15328 [==============================] - 27s 2ms/step - loss: 0.3069 - accuracy: 0.8841 - val_loss: 0.4370 - val_accuracy: 0.8678\n",
            "Epoch 13/20\n",
            "15328/15328 [==============================] - 27s 2ms/step - loss: 0.3053 - accuracy: 0.8846 - val_loss: 0.4484 - val_accuracy: 0.8684\n",
            "Epoch 14/20\n",
            "15328/15328 [==============================] - 27s 2ms/step - loss: 0.3033 - accuracy: 0.8856 - val_loss: 0.4422 - val_accuracy: 0.8704\n",
            "Epoch 15/20\n",
            "15328/15328 [==============================] - 27s 2ms/step - loss: 0.3014 - accuracy: 0.8861 - val_loss: 0.4460 - val_accuracy: 0.8699\n",
            "Epoch 16/20\n",
            "15328/15328 [==============================] - 28s 2ms/step - loss: 0.3003 - accuracy: 0.8866 - val_loss: 0.4696 - val_accuracy: 0.8686\n",
            "Epoch 17/20\n",
            "15328/15328 [==============================] - 30s 2ms/step - loss: 0.2984 - accuracy: 0.8873 - val_loss: 0.4409 - val_accuracy: 0.8666\n",
            "Epoch 18/20\n",
            "15328/15328 [==============================] - 28s 2ms/step - loss: 0.2977 - accuracy: 0.8876 - val_loss: 0.4394 - val_accuracy: 0.8677\n",
            "Epoch 19/20\n",
            "15328/15328 [==============================] - 27s 2ms/step - loss: 0.2965 - accuracy: 0.8885 - val_loss: 0.4860 - val_accuracy: 0.8689\n",
            "Epoch 20/20\n",
            "15328/15328 [==============================] - 28s 2ms/step - loss: 0.2955 - accuracy: 0.8887 - val_loss: 0.4588 - val_accuracy: 0.8688\n"
          ]
        }
      ]
    },
    {
      "cell_type": "markdown",
      "metadata": {
        "id": "Ywz3CFPHgHB9"
      },
      "source": [
        "##Fine-tuning Best Model"
      ]
    },
    {
      "cell_type": "code",
      "metadata": {
        "colab": {
          "base_uri": "https://localhost:8080/"
        },
        "id": "5ilxJEIUPROc",
        "outputId": "558c1e58-4f2a-4fad-e633-3039bf01e8d3"
      },
      "source": [
        "param_grid = [\n",
        "    {'model__n_estimators': [2, 5, 10, 15, 20, 30, 40], \n",
        "     'model__max_features': [2, 4, 6, 8]}\n",
        "  ]\n",
        "\n",
        "pipe_rfc = Pipeline([('smt', SMOTE(random_state=42)),\n",
        "                    ('scaler',StandardScaler()),\n",
        "                    ('model',RandomForestClassifier())])\n",
        "\n",
        "cv=KFold(n_splits=5, random_state=42, shuffle=True)\n",
        "rfc_gs = GridSearchCV(pipe_rfc, param_grid, cv=cv,\n",
        "                           scoring='accuracy',\n",
        "                           return_train_score=True, n_jobs=-1, verbose=2)\n",
        "\n",
        "rfc_gs.fit(X_train, y_train)\n",
        "\n",
        "rfc_result = pd.DataFrame(rfc_gs.cv_results_)\n",
        "rfc_result = rfc_result.sort_values('rank_test_score')\n",
        "for rec in rfc_result[['params','mean_test_score','std_test_score','rank_test_score']].values[:5]:\n",
        "    print('-'*10)\n",
        "    print(f'Rank {rec[-1]}')\n",
        "    print(f'Params: {rec[0]}')\n",
        "    print(f'Mean Accuracy:{rec[1]:.3f} +- {rec[2]:.3f}')"
      ],
      "execution_count": null,
      "outputs": [
        {
          "output_type": "stream",
          "name": "stdout",
          "text": [
            "Fitting 5 folds for each of 28 candidates, totalling 140 fits\n"
          ]
        },
        {
          "output_type": "stream",
          "name": "stderr",
          "text": [
            "[Parallel(n_jobs=-1)]: Using backend LokyBackend with 4 concurrent workers.\n",
            "[Parallel(n_jobs=-1)]: Done  33 tasks      | elapsed:  4.0min\n",
            "[Parallel(n_jobs=-1)]: Done 140 out of 140 | elapsed: 32.5min finished\n"
          ]
        },
        {
          "output_type": "stream",
          "name": "stdout",
          "text": [
            "----------\n",
            "Rank 1\n",
            "Params: {'model__max_features': 2, 'model__n_estimators': 40}\n",
            "Mean Accuracy:0.903 +- 0.001\n",
            "----------\n",
            "Rank 2\n",
            "Params: {'model__max_features': 4, 'model__n_estimators': 40}\n",
            "Mean Accuracy:0.903 +- 0.001\n",
            "----------\n",
            "Rank 3\n",
            "Params: {'model__max_features': 2, 'model__n_estimators': 30}\n",
            "Mean Accuracy:0.902 +- 0.001\n",
            "----------\n",
            "Rank 4\n",
            "Params: {'model__max_features': 6, 'model__n_estimators': 40}\n",
            "Mean Accuracy:0.902 +- 0.000\n",
            "----------\n",
            "Rank 5\n",
            "Params: {'model__max_features': 4, 'model__n_estimators': 30}\n",
            "Mean Accuracy:0.902 +- 0.001\n"
          ]
        }
      ]
    },
    {
      "cell_type": "markdown",
      "metadata": {
        "id": "ne1OtpF6i37m"
      },
      "source": [
        "The highest Accuracy Random Forest Classifier model can achieve is 0.903. I will choose params (max_features:4, n_estimators:40) as the final model"
      ]
    },
    {
      "cell_type": "markdown",
      "metadata": {
        "id": "p2uhqRLizFQd"
      },
      "source": [
        "##Final Evaluation on Test set"
      ]
    },
    {
      "cell_type": "code",
      "metadata": {
        "colab": {
          "base_uri": "https://localhost:8080/"
        },
        "id": "Gl7Qn3zFf6Cx",
        "outputId": "fcee792a-352b-46a7-fe9b-ee3a69e5fb46"
      },
      "source": [
        "# retrieve the best RF model\n",
        "best_rfc = rfc_gs.best_estimator_\n",
        "\n",
        "# test the final model on Validation set\n",
        "y_pred = best_rfc.predict(X_test)\n",
        "\n",
        "# print(f\"Random Forest Classifier {rfc_gs.best_params_}\\n\")\n",
        "# Accuracy\n",
        "final_acc = accuracy_score(y_test, y_pred)\n",
        "print(\"Accuracy:\", final_acc)\n",
        "\n",
        "# F1_weighted\n",
        "final_f1 = f1_score(y_test, y_pred, average='weighted')\n",
        "print(\"\\nF1_weighted:\", final_f1)\n",
        "\n",
        "# Fbeta\n",
        "fbeta = make_scorer(fbeta_score, beta=0.5, average='weighted')\n",
        "final_fbeta = fbeta_score(y_test, y_pred, beta=0.5, average='weighted')\n",
        "print('\\nFbeta:', final_fbeta)\n",
        "\n",
        "# ROC_AUC\n",
        "roc_auc = make_scorer(roc_auc_score, multi_class='ovo',needs_proba=True)\n",
        "final_auc = roc_auc_score(y_test, best_rfc.predict_proba(X_test), multi_class='ovo')\n",
        "print(\"\\nROC_AUC\", final_auc)"
      ],
      "execution_count": null,
      "outputs": [
        {
          "output_type": "stream",
          "name": "stdout",
          "text": [
            "Accuracy: 0.9079950735043631\n",
            "\n",
            "F1_weighted: 0.9086927783007587\n",
            "\n",
            "Fbeta: 0.9093037381345891\n",
            "\n",
            "ROC_AUC 0.975589662840354\n"
          ]
        }
      ]
    },
    {
      "cell_type": "code",
      "metadata": {
        "colab": {
          "base_uri": "https://localhost:8080/",
          "height": 295
        },
        "id": "fYs0mB7FYfYp",
        "outputId": "572f493f-8beb-4db9-8b9c-07435eeb5540"
      },
      "source": [
        "# !pip install scikit-plot\n",
        "import scikitplot as skplt\n",
        "\n",
        "y_pred = best_rfc.predict_proba(X_test) # predicted probabilities generated by sklearn classifier\n",
        "skplt.metrics.plot_roc_curve(y_test, y_pred)\n",
        "plt.show()"
      ],
      "execution_count": null,
      "outputs": [
        {
          "output_type": "display_data",
          "data": {
            "image/png": "[encoded data removed]",
            "text/plain": [
              "<Figure size 432x288 with 1 Axes>"
            ]
          },
          "metadata": {
            "needs_background": "light"
          }
        }
      ]
    },
    {
      "cell_type": "markdown",
      "metadata": {
        "id": "_QrekqedULbG"
      },
      "source": [
        "##Error analysis"
      ]
    },
    {
      "cell_type": "code",
      "metadata": {
        "colab": {
          "base_uri": "https://localhost:8080/",
          "height": 787
        },
        "id": "vWrdxiZ3eqCQ",
        "outputId": "8dcf3e04-58e4-4c5f-fef9-a63a5641037c"
      },
      "source": [
        "plt.figure(figsize=(10,10))\n",
        "sns.heatmap(data=confusion_matrix(y_test, best_rfc.predict(X_test)), annot=True,fmt = \".0f\")\n",
        "print(classification_report(y_test, best_rfc.predict(X_test), digits=3))"
      ],
      "execution_count": null,
      "outputs": [
        {
          "output_type": "stream",
          "name": "stdout",
          "text": [
            "              precision    recall  f1-score   support\n",
            "\n",
            "         1.0      0.888     0.924     0.906      4054\n",
            "         2.0      0.642     0.822     0.721       146\n",
            "         3.0      0.800     0.828     0.814      8495\n",
            "         4.0      0.951     0.932     0.942     25466\n",
            "\n",
            "    accuracy                          0.908     38161\n",
            "   macro avg      0.820     0.877     0.846     38161\n",
            "weighted avg      0.910     0.908     0.909     38161\n",
            "\n"
          ]
        },
        {
          "output_type": "display_data",
          "data": {
            "image/png": "[encoded data removed]",
            "text/plain": [
              "<Figure size 720x720 with 2 Axes>"
            ]
          },
          "metadata": {
            "needs_background": "light"
          }
        }
      ]
    },
    {
      "cell_type": "markdown",
      "metadata": {
        "id": "r77wWI26iCnq"
      },
      "source": [
        "##Feature Importance"
      ]
    },
    {
      "cell_type": "code",
      "metadata": {
        "id": "uHmxLkx2Ov8j",
        "colab": {
          "base_uri": "https://localhost:8080/"
        },
        "outputId": "1611fb5c-481e-4a82-fad0-258671941120"
      },
      "source": [
        "feature_importances = best_rfc['model'].feature_importances_\n",
        "sorted(zip(feature_importances, X_train.columns.values), reverse=True)"
      ],
      "execution_count": null,
      "outputs": [
        {
          "output_type": "execute_result",
          "data": {
            "text/plain": [
              "[(0.21653401507619702, 'Additives_count'),\n",
              " (0.1980431926696242, 'Sodium'),\n",
              " (0.14888290538742777, 'Energy_kcal'),\n",
              " (0.14413306461354555, 'Fat'),\n",
              " (0.06783588018689773, 'Carbohydrates'),\n",
              " (0.0624303786348369, 'Sugars'),\n",
              " (0.05081216300483267, 'Protein'),\n",
              " (0.04491366445022203, 'Saturated fat'),\n",
              " (0.0399314312339102, 'Fiber'),\n",
              " (0.02354183543392572, 'Cholesterol'),\n",
              " (0.0029414693085802433, 'Trans fat')]"
            ]
          },
          "metadata": {},
          "execution_count": 304
        }
      ]
    },
    {
      "cell_type": "code",
      "metadata": {
        "id": "eXk9qfaasRnq",
        "colab": {
          "base_uri": "https://localhost:8080/",
          "height": 374
        },
        "outputId": "66df345e-5f8e-4209-a54c-52a7308ad50d"
      },
      "source": [
        "feat_importances = pd.Series(feature_importances, index=X_train.columns)\n",
        "\n",
        "plt.figure(figsize=(10,6))\n",
        "feat_importances.nlargest(20).plot(kind='barh', grid=True)\n",
        "# plt.savefig(\"feature_imp.jpg\",dpi=300)\n",
        "plt.show()"
      ],
      "execution_count": null,
      "outputs": [
        {
          "output_type": "display_data",
          "data": {
            "image/png": "[encoded data removed]",
            "text/plain": [
              "<Figure size 720x432 with 1 Axes>"
            ]
          },
          "metadata": {
            "needs_background": "light"
          }
        }
      ]
    },
    {
      "cell_type": "markdown",
      "metadata": {
        "id": "x2vnTYQVp0as"
      },
      "source": [
        "**Comment:** Apparently, **Additives** is the most important feature and **Trans fat** doesn't contribute much to the mean decrease in impurity of each tree"
      ]
    },
    {
      "cell_type": "markdown",
      "metadata": {
        "id": "D6X4hS3RzV7W"
      },
      "source": [
        "##Future deployment"
      ]
    },
    {
      "cell_type": "code",
      "metadata": {
        "id": "B5Z81ZltzVFQ",
        "colab": {
          "base_uri": "https://localhost:8080/"
        },
        "outputId": "35f97520-230b-4f86-d193-9efc83c5e762"
      },
      "source": [
        "best_rfc.fit(X, y)"
      ],
      "execution_count": null,
      "outputs": [
        {
          "output_type": "execute_result",
          "data": {
            "text/plain": [
              "Pipeline(memory=None,\n",
              "         steps=[('smt',\n",
              "                 SMOTE(k_neighbors=5, kind='deprecated',\n",
              "                       m_neighbors='deprecated', n_jobs=1,\n",
              "                       out_step='deprecated', random_state=42, ratio=None,\n",
              "                       sampling_strategy='auto', svm_estimator='deprecated')),\n",
              "                ('scaler',\n",
              "                 StandardScaler(copy=True, with_mean=True, with_std=True)),\n",
              "                ('model',\n",
              "                 RandomForestClassifier(bootstrap=True, ccp_alpha=0.0,\n",
              "                                        class_weight=None, criterion='gini',\n",
              "                                        max_depth=None, max_features=4,\n",
              "                                        max_leaf_nodes=None, max_samples=None,\n",
              "                                        min_impurity_decrease=0.0,\n",
              "                                        min_impurity_split=None,\n",
              "                                        min_samples_leaf=1, min_samples_split=2,\n",
              "                                        min_weight_fraction_leaf=0.0,\n",
              "                                        n_estimators=40, n_jobs=None,\n",
              "                                        oob_score=False, random_state=None,\n",
              "                                        verbose=0, warm_start=False))],\n",
              "         verbose=False)"
            ]
          },
          "metadata": {},
          "execution_count": 307
        }
      ]
    },
    {
      "cell_type": "markdown",
      "metadata": {
        "id": "GzA2qytFaMec"
      },
      "source": [
        "Save model"
      ]
    },
    {
      "cell_type": "code",
      "metadata": {
        "id": "-9EmdOpOrKHB"
      },
      "source": [
        "# import joblib\n",
        "\n",
        "# joblib.dump(best_rfc, \"nova_rfc_11.pkl\")\n",
        "\n",
        "# !cp \"/content/nova_rfc_11.pkl\" \"/content/gdrive/MyDrive/Colab Notebooks/FINAL PROJECT/Saved_files\"\n",
        "# # and later...\n",
        "best_rfc = joblib.load(\"/content/gdrive/MyDrive/Colab Notebooks/FINAL PROJECT/Saved_files/nova_rfc.pkl\")"
      ],
      "execution_count": null,
      "outputs": []
    },
    {
      "cell_type": "code",
      "metadata": {
        "id": "cV-7rdHPcLpQ"
      },
      "source": [
        ""
      ],
      "execution_count": null,
      "outputs": []
    }
  ]
}
